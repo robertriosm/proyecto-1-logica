{
 "cells": [
  {
   "cell_type": "code",
   "execution_count": 2,
   "metadata": {},
   "outputs": [
    {
     "name": "stdout",
     "output_type": "stream",
     "text": [
      "[206, 123456, 123456, 123000456, 12345600, 123456, 123456, 123456, 123456, 123456, 123456, None]\n"
     ]
    }
   ],
   "source": [
    "import re\n",
    "\n",
    "# Saber si el id es un número\n",
    "def is_number(string):\n",
    "    pattern = r'^\\d+$'\n",
    "    return bool(re.match(pattern, string))\n",
    "\n",
    "# Aplicar la función anterior a un dataframe\n",
    "def apply_is_number_to_column(matrix, column_index):\n",
    "    results = []\n",
    "    for row in matrix:\n",
    "        if column_index < len(row):\n",
    "            result = is_number(row[column_index])\n",
    "            if result:\n",
    "                results.append(int(row[column_index]))\n",
    "            else:\n",
    "                results.append(None) # Agregar None si no es un número\n",
    "    return results\n",
    "\n",
    "# Tu matriz (lista de listas)\n",
    "matrix = [\n",
    "    [\"000000206\", \"other data\"],\n",
    "    [\"123456\", \"more data\"],\n",
    "    [\"123456\", \"more data\"],\n",
    "    [\"123000456\", \"more data\"],\n",
    "    [\"12345600\", \"more data\"],\n",
    "    [\"0000000000123456\", \"more data\"],\n",
    "    [\"123456\", \"more data\"],\n",
    "    [\"123456\", \"more data\"],\n",
    "    [\"123456\", \"more data\"],\n",
    "    [\"123456\", \"more data\"],\n",
    "    [\"123456\", \"more data\"],\n",
    "    [\"text\", \"even more data\"]\n",
    "]\n",
    "\n",
    "# Reemplazar los tipos de los ids\n",
    "column_index = 0\n",
    "new_ids = apply_is_number_to_column(matrix, column_index)\n",
    "print(new_ids) # Output: [206, 123456, None]\n"
   ]
  }
 ],
 "metadata": {
  "kernelspec": {
   "display_name": "Python 3",
   "language": "python",
   "name": "python3"
  },
  "language_info": {
   "codemirror_mode": {
    "name": "ipython",
    "version": 3
   },
   "file_extension": ".py",
   "mimetype": "text/x-python",
   "name": "python",
   "nbconvert_exporter": "python",
   "pygments_lexer": "ipython3",
   "version": "3.9.2"
  },
  "orig_nbformat": 4
 },
 "nbformat": 4,
 "nbformat_minor": 2
}
